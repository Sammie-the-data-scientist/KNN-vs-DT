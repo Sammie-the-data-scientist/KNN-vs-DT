{
 "cells": [
  {
   "cell_type": "markdown",
   "id": "696bad82",
   "metadata": {},
   "source": [
    "# **In this notebook I have tried to compare and explain the working of two famous supervised learning classification algorithms, Decision tree classifier and K-Nearest Neighbor classifier.**"
   ]
  },
  {
   "cell_type": "markdown",
   "id": "4707fbe6",
   "metadata": {},
   "source": [
    "*The dataset used here contains demographic data for a telecommunication service provider. The objective is to use demographic data, such as region, age, and marital, to predict customer usage patterns. This project might be useful for a telecomunication service provider like (safaricom) for purposes of customer segmentation.The company will then use this categorized groups of customers to customize offers.Dataset can be obtained from Kaggle.*"
   ]
  },
  {
   "cell_type": "code",
   "execution_count": 14,
   "id": "4d6cfd30",
   "metadata": {},
   "outputs": [],
   "source": [
    "#import required libraries\n",
    "import numpy as np\n",
    "import pandas as pd\n",
    "#incase we will need to visualize any behavior of the data\n",
    "import matplotlib.pyplot as plt\n",
    "#lets import the preprocessing package of the scikit-learn will help us normalize data since algorithms such as knn require \n",
    "# that you normalize data\n",
    "from sklearn import preprocessing\n",
    "#import train_test split to split your data\n",
    "from sklearn.model_selection import train_test_split"
   ]
  },
  {
   "cell_type": "markdown",
   "id": "7b49d2fc",
   "metadata": {},
   "source": [
    "## Load Data"
   ]
  },
  {
   "cell_type": "code",
   "execution_count": 3,
   "id": "fddaefc2",
   "metadata": {},
   "outputs": [
    {
     "data": {
      "text/html": [
       "<div>\n",
       "<style scoped>\n",
       "    .dataframe tbody tr th:only-of-type {\n",
       "        vertical-align: middle;\n",
       "    }\n",
       "\n",
       "    .dataframe tbody tr th {\n",
       "        vertical-align: top;\n",
       "    }\n",
       "\n",
       "    .dataframe thead th {\n",
       "        text-align: right;\n",
       "    }\n",
       "</style>\n",
       "<table border=\"1\" class=\"dataframe\">\n",
       "  <thead>\n",
       "    <tr style=\"text-align: right;\">\n",
       "      <th></th>\n",
       "      <th>region</th>\n",
       "      <th>tenure</th>\n",
       "      <th>age</th>\n",
       "      <th>marital</th>\n",
       "      <th>address</th>\n",
       "      <th>income</th>\n",
       "      <th>ed</th>\n",
       "      <th>employ</th>\n",
       "      <th>retire</th>\n",
       "      <th>gender</th>\n",
       "      <th>reside</th>\n",
       "      <th>custcat</th>\n",
       "    </tr>\n",
       "  </thead>\n",
       "  <tbody>\n",
       "    <tr>\n",
       "      <th>0</th>\n",
       "      <td>2</td>\n",
       "      <td>13</td>\n",
       "      <td>44</td>\n",
       "      <td>1</td>\n",
       "      <td>9</td>\n",
       "      <td>64.0</td>\n",
       "      <td>4</td>\n",
       "      <td>5</td>\n",
       "      <td>0.0</td>\n",
       "      <td>0</td>\n",
       "      <td>2</td>\n",
       "      <td>1</td>\n",
       "    </tr>\n",
       "    <tr>\n",
       "      <th>1</th>\n",
       "      <td>3</td>\n",
       "      <td>11</td>\n",
       "      <td>33</td>\n",
       "      <td>1</td>\n",
       "      <td>7</td>\n",
       "      <td>136.0</td>\n",
       "      <td>5</td>\n",
       "      <td>5</td>\n",
       "      <td>0.0</td>\n",
       "      <td>0</td>\n",
       "      <td>6</td>\n",
       "      <td>4</td>\n",
       "    </tr>\n",
       "    <tr>\n",
       "      <th>2</th>\n",
       "      <td>3</td>\n",
       "      <td>68</td>\n",
       "      <td>52</td>\n",
       "      <td>1</td>\n",
       "      <td>24</td>\n",
       "      <td>116.0</td>\n",
       "      <td>1</td>\n",
       "      <td>29</td>\n",
       "      <td>0.0</td>\n",
       "      <td>1</td>\n",
       "      <td>2</td>\n",
       "      <td>3</td>\n",
       "    </tr>\n",
       "    <tr>\n",
       "      <th>3</th>\n",
       "      <td>2</td>\n",
       "      <td>33</td>\n",
       "      <td>33</td>\n",
       "      <td>0</td>\n",
       "      <td>12</td>\n",
       "      <td>33.0</td>\n",
       "      <td>2</td>\n",
       "      <td>0</td>\n",
       "      <td>0.0</td>\n",
       "      <td>1</td>\n",
       "      <td>1</td>\n",
       "      <td>1</td>\n",
       "    </tr>\n",
       "    <tr>\n",
       "      <th>4</th>\n",
       "      <td>2</td>\n",
       "      <td>23</td>\n",
       "      <td>30</td>\n",
       "      <td>1</td>\n",
       "      <td>9</td>\n",
       "      <td>30.0</td>\n",
       "      <td>1</td>\n",
       "      <td>2</td>\n",
       "      <td>0.0</td>\n",
       "      <td>0</td>\n",
       "      <td>4</td>\n",
       "      <td>3</td>\n",
       "    </tr>\n",
       "  </tbody>\n",
       "</table>\n",
       "</div>"
      ],
      "text/plain": [
       "   region  tenure  age  marital  address  income  ed  employ  retire  gender  \\\n",
       "0       2      13   44        1        9    64.0   4       5     0.0       0   \n",
       "1       3      11   33        1        7   136.0   5       5     0.0       0   \n",
       "2       3      68   52        1       24   116.0   1      29     0.0       1   \n",
       "3       2      33   33        0       12    33.0   2       0     0.0       1   \n",
       "4       2      23   30        1        9    30.0   1       2     0.0       0   \n",
       "\n",
       "   reside  custcat  \n",
       "0       2        1  \n",
       "1       6        4  \n",
       "2       2        3  \n",
       "3       1        1  \n",
       "4       4        3  "
      ]
     },
     "execution_count": 3,
     "metadata": {},
     "output_type": "execute_result"
    }
   ],
   "source": [
    "saf = pd.read_csv('teleCust1000t.csv')\n",
    "saf.head()\n",
    "#we want to classify category of customer(custcat)"
   ]
  },
  {
   "cell_type": "markdown",
   "id": "815981f5",
   "metadata": {},
   "source": [
    "## Understand data"
   ]
  },
  {
   "cell_type": "code",
   "execution_count": 4,
   "id": "d6748630",
   "metadata": {},
   "outputs": [
    {
     "data": {
      "text/plain": [
       "Index(['region', 'tenure', 'age', 'marital', 'address', 'income', 'ed',\n",
       "       'employ', 'retire', 'gender', 'reside', 'custcat'],\n",
       "      dtype='object')"
      ]
     },
     "execution_count": 4,
     "metadata": {},
     "output_type": "execute_result"
    }
   ],
   "source": [
    "#which columns are present\n",
    "saf.columns"
   ]
  },
  {
   "cell_type": "code",
   "execution_count": 6,
   "id": "5979e728",
   "metadata": {},
   "outputs": [
    {
     "data": {
      "text/plain": [
       "custcat\n",
       "3          281\n",
       "1          266\n",
       "4          236\n",
       "2          217\n",
       "dtype: int64"
      ]
     },
     "execution_count": 6,
     "metadata": {},
     "output_type": "execute_result"
    }
   ],
   "source": [
    "#How many of each category do we have in our target attribute\n",
    "saf[['custcat']].value_counts()"
   ]
  },
  {
   "cell_type": "markdown",
   "id": "6d62a603",
   "metadata": {},
   "source": [
    "Well before we continue it is good to understand what is meant by the 4 categories 1,2,3,4;<br>\n",
    "1-Basic service<br>\n",
    "2-E-service<br>\n",
    "3-Plus service<br>\n",
    "4-Total service<br>\n",
    "\n",
    "**NB:** you will find this in the dataset meta data "
   ]
  },
  {
   "cell_type": "code",
   "execution_count": 7,
   "id": "0f24cef2",
   "metadata": {},
   "outputs": [
    {
     "data": {
      "text/plain": [
       "(1000, 12)"
      ]
     },
     "execution_count": 7,
     "metadata": {},
     "output_type": "execute_result"
    }
   ],
   "source": [
    "#How many attributes and samples do we have in our data set\n",
    "saf.shape"
   ]
  },
  {
   "cell_type": "code",
   "execution_count": 8,
   "id": "0dd79cc2",
   "metadata": {},
   "outputs": [
    {
     "data": {
      "text/plain": [
       "region       int64\n",
       "tenure       int64\n",
       "age          int64\n",
       "marital      int64\n",
       "address      int64\n",
       "income     float64\n",
       "ed           int64\n",
       "employ       int64\n",
       "retire     float64\n",
       "gender       int64\n",
       "reside       int64\n",
       "custcat      int64\n",
       "dtype: object"
      ]
     },
     "execution_count": 8,
     "metadata": {},
     "output_type": "execute_result"
    }
   ],
   "source": [
    "#Data types present\n",
    "saf.dtypes\n",
    "#All are are numerical,we are lucky we will not need to use sklearn's LabelEncoder() to convert them for the purpose of \n",
    "#fitting our model"
   ]
  },
  {
   "cell_type": "markdown",
   "id": "d9ceaedd",
   "metadata": {},
   "source": [
    "Most algorithms requires that the data be in numeric form"
   ]
  },
  {
   "cell_type": "markdown",
   "id": "00655d7c",
   "metadata": {},
   "source": [
    "## Preprocessing data"
   ]
  },
  {
   "cell_type": "markdown",
   "id": "203890bb",
   "metadata": {},
   "source": [
    "### To use scikit learn,your data needs to be in a numpy array,so lets convert it first and also separate depedent and indepedent variables"
   ]
  },
  {
   "cell_type": "code",
   "execution_count": 27,
   "id": "d6121456",
   "metadata": {},
   "outputs": [],
   "source": [
    "#Isolate predictor variables and convert them to a numpy array\n",
    "X = saf[['region', 'tenure', 'age', 'marital', 'address', 'income', 'ed',\n",
    "       'employ', 'retire', 'gender', 'reside']].values\n",
    "\n",
    "#Isolate target variable and convert it to a numpy array(should be in 1d not as a dataFrame)\n",
    "y = saf['custcat'].values"
   ]
  },
  {
   "cell_type": "markdown",
   "id": "a451ed9a",
   "metadata": {},
   "source": [
    "Our data is already in numeric form as required by many machine learning algorithms,but it needs to be normalized for most algorithms(KNN included) to work well.Normalizing data gives it zero mean and unit variance"
   ]
  },
  {
   "cell_type": "code",
   "execution_count": 12,
   "id": "2da9da77",
   "metadata": {},
   "outputs": [
    {
     "data": {
      "text/plain": [
       "array([[-0.02696767, -1.055125  ,  0.18450456, ..., -0.22207644,\n",
       "        -1.03459817, -0.23065004],\n",
       "       [ 1.19883553, -1.14880563, -0.69181243, ..., -0.22207644,\n",
       "        -1.03459817,  2.55666158],\n",
       "       [ 1.19883553,  1.52109247,  0.82182601, ..., -0.22207644,\n",
       "         0.96655883, -0.23065004],\n",
       "       ...,\n",
       "       [ 1.19883553,  1.47425216,  1.37948227, ..., -0.22207644,\n",
       "         0.96655883, -0.92747794],\n",
       "       [ 1.19883553,  1.61477311,  0.58283046, ..., -0.22207644,\n",
       "         0.96655883, -0.92747794],\n",
       "       [ 1.19883553,  0.67796676, -0.45281689, ..., -0.22207644,\n",
       "         0.96655883,  0.46617787]])"
      ]
     },
     "execution_count": 12,
     "metadata": {},
     "output_type": "execute_result"
    }
   ],
   "source": [
    "#Lets normalize our data(of course the predictors)\n",
    "X = preprocessing.StandardScaler().fit_transform(X.astype('float'))\n",
    "X "
   ]
  },
  {
   "cell_type": "markdown",
   "id": "066a3774",
   "metadata": {},
   "source": [
    "## Split your data and reserve some for testing"
   ]
  },
  {
   "cell_type": "markdown",
   "id": "01afe719",
   "metadata": {},
   "source": [
    "You split the predictors data into training and testing.This is done to ensure better out of sample accuracy"
   ]
  },
  {
   "cell_type": "code",
   "execution_count": 25,
   "id": "17978c42",
   "metadata": {},
   "outputs": [],
   "source": [
    "#split data\n",
    "X_train,X_test,y_train,y_test = train_test_split(X,y,test_size=0.3,random_state=3)"
   ]
  },
  {
   "cell_type": "code",
   "execution_count": 16,
   "id": "60a171f4",
   "metadata": {},
   "outputs": [
    {
     "name": "stdout",
     "output_type": "stream",
     "text": [
      "Shape training set X: (700, 11)\n",
      "Shape training set y: (700, 1)\n"
     ]
    }
   ],
   "source": [
    "#Shape of training set\n",
    "print('Shape training set X:',X_train.shape)\n",
    "print('Shape training set y:',y_train.shape)"
   ]
  },
  {
   "cell_type": "code",
   "execution_count": 17,
   "id": "b1ce1dc3",
   "metadata": {},
   "outputs": [
    {
     "name": "stdout",
     "output_type": "stream",
     "text": [
      "Shape testing set X: (300, 11)\n",
      "Shape testing set y: (300, 1)\n"
     ]
    }
   ],
   "source": [
    "#Shape of testing set\n",
    "print('Shape testing set X:',X_test.shape)\n",
    "print('Shape testing set y:',y_test.shape)"
   ]
  },
  {
   "cell_type": "markdown",
   "id": "9ac46776",
   "metadata": {},
   "source": [
    "Great! successfully separated our data.So we are going to train our two models using the training data and test them using testing data"
   ]
  },
  {
   "cell_type": "markdown",
   "id": "f2316dba",
   "metadata": {},
   "source": [
    "## Models"
   ]
  },
  {
   "cell_type": "markdown",
   "id": "2f2d3335",
   "metadata": {},
   "source": [
    "### (1).K-Nearest Neighbors"
   ]
  },
  {
   "cell_type": "markdown",
   "id": "593f35eb",
   "metadata": {},
   "source": [
    "#### *Train"
   ]
  },
  {
   "cell_type": "code",
   "execution_count": 43,
   "id": "0c4f48b5",
   "metadata": {},
   "outputs": [
    {
     "data": {
      "text/plain": [
       "KNeighborsClassifier(n_neighbors=6)"
      ]
     },
     "execution_count": 43,
     "metadata": {},
     "output_type": "execute_result"
    }
   ],
   "source": [
    "#Import the classifier\n",
    "from sklearn.neighbors import KNeighborsClassifier \n",
    "#Create model(I will give it 4 neighbors)\n",
    "KNN = KNeighborsClassifier(n_neighbors=6)\n",
    "#Fit model to the training data\n",
    "KNN.fit(X_train,y_train)\n",
    "KNN"
   ]
  },
  {
   "cell_type": "markdown",
   "id": "fd486555",
   "metadata": {},
   "source": [
    "#### *Predict"
   ]
  },
  {
   "cell_type": "code",
   "execution_count": 51,
   "id": "27ffc246",
   "metadata": {},
   "outputs": [
    {
     "name": "stdout",
     "output_type": "stream",
     "text": [
      "Predicted:  [1 1 1 4 2]\n",
      "Real:  [3 3 1 4 1]\n"
     ]
    }
   ],
   "source": [
    "#Lets make a prediction and visually compare with real values\n",
    "yhat = KNN.predict(X_test)\n",
    "print('Predicted: ',yhat[0:5])\n",
    "print('Real: ',y_test[0:5])"
   ]
  },
  {
   "cell_type": "markdown",
   "id": "7c51446f",
   "metadata": {},
   "source": [
    "#### *Evaluate"
   ]
  },
  {
   "cell_type": "code",
   "execution_count": 47,
   "id": "a8d96023",
   "metadata": {},
   "outputs": [
    {
     "name": "stdout",
     "output_type": "stream",
     "text": [
      "Accuracy score of KNN: 0.3333333333333333\n"
     ]
    }
   ],
   "source": [
    "#We will evaluate using accuracy classification score\n",
    "from sklearn import metrics\n",
    "print('Accuracy score of KNN:',metrics.accuracy_score(y_test,yhat))\n",
    "#The accuracy is less about 33%"
   ]
  },
  {
   "cell_type": "markdown",
   "id": "c1fb0d6b",
   "metadata": {},
   "source": [
    "### (2).Decision Tree"
   ]
  },
  {
   "cell_type": "markdown",
   "id": "1b141542",
   "metadata": {},
   "source": [
    "#### *Train"
   ]
  },
  {
   "cell_type": "code",
   "execution_count": 49,
   "id": "6f444974",
   "metadata": {},
   "outputs": [
    {
     "data": {
      "text/plain": [
       "DecisionTreeClassifier(criterion='entropy', max_depth=4)"
      ]
     },
     "execution_count": 49,
     "metadata": {},
     "output_type": "execute_result"
    }
   ],
   "source": [
    "#Import the classifier\n",
    "from sklearn.tree import DecisionTreeClassifier\n",
    "#Create model\n",
    "DT = DecisionTreeClassifier(criterion = 'entropy',max_depth=4)\n",
    "#Fit model to the training data\n",
    "DT.fit(X_train,y_train)\n",
    "DT"
   ]
  },
  {
   "cell_type": "markdown",
   "id": "7a88831d",
   "metadata": {},
   "source": [
    "#### *Predict"
   ]
  },
  {
   "cell_type": "code",
   "execution_count": 52,
   "id": "d9b3adc3",
   "metadata": {},
   "outputs": [
    {
     "name": "stdout",
     "output_type": "stream",
     "text": [
      "Predicted:  [1 3 1 2 1]\n",
      "Real:  [3 3 1 4 1]\n"
     ]
    }
   ],
   "source": [
    "#Lets make a prediction and visually compare with real values\n",
    "yhat = DT.predict(X_test)\n",
    "print('Predicted: ',yhat[0:5])\n",
    "print('Real: ',y_test[0:5])"
   ]
  },
  {
   "cell_type": "markdown",
   "id": "dffb39a1",
   "metadata": {},
   "source": [
    "#### *Evaluate"
   ]
  },
  {
   "cell_type": "code",
   "execution_count": 53,
   "id": "77a05ab8",
   "metadata": {},
   "outputs": [
    {
     "name": "stdout",
     "output_type": "stream",
     "text": [
      "Accuracy score of Decision Tree: 0.37333333333333335\n"
     ]
    }
   ],
   "source": [
    "#We will evaluate using accuracy classification score\n",
    "from sklearn import metrics\n",
    "print('Accuracy score of Decision Tree:',metrics.accuracy_score(y_test,yhat))\n",
    "#It's accuracy is better though not perfect compared to KNN on this problem,it has a 37% out of sample accuracy "
   ]
  },
  {
   "cell_type": "markdown",
   "id": "3b816d8c",
   "metadata": {},
   "source": [
    "### CONCLUSION: IF I WERE TO CHOOSE BETWEEN THIS TWO MODELS ON THIS PARTICULAR PROBLEM I WOULD GO FOR DECISION TREE,THE REASON IS, I TRIED TWISTING THE PARAMETERS OF KNN(n_neighbors) BUT THE BEST IT COULD GIVE WAS BELOW DT's ACCURACY.NOTE THAT THIS ACCURACY SCORES ARE OUT OF SAMPLE SCORES."
   ]
  },
  {
   "cell_type": "markdown",
   "id": "f9021eb7",
   "metadata": {},
   "source": [
    "## MORE ON MACHINE LEARNING,DEEP LEARNING COMING IN FUTURE...."
   ]
  },
  {
   "cell_type": "markdown",
   "id": "82a45b73",
   "metadata": {},
   "source": [
    "**Regards Samuel**,HAPPY DATA SCIENCE CAREER JOURNEY!"
   ]
  },
  {
   "cell_type": "code",
   "execution_count": null,
   "id": "48f75873",
   "metadata": {},
   "outputs": [],
   "source": []
  }
 ],
 "metadata": {
  "kernelspec": {
   "display_name": "Python 3",
   "language": "python",
   "name": "python3"
  },
  "language_info": {
   "codemirror_mode": {
    "name": "ipython",
    "version": 3
   },
   "file_extension": ".py",
   "mimetype": "text/x-python",
   "name": "python",
   "nbconvert_exporter": "python",
   "pygments_lexer": "ipython3",
   "version": "3.8.8"
  }
 },
 "nbformat": 4,
 "nbformat_minor": 5
}
